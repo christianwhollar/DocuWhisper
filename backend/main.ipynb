{
 "cells": [
  {
   "cell_type": "code",
   "execution_count": 1,
   "metadata": {},
   "outputs": [
    {
     "name": "stderr",
     "output_type": "stream",
     "text": [
      "[nltk_data] Downloading package punkt to /home/chollar/nltk_data...\n",
      "[nltk_data]   Package punkt is already up-to-date!\n"
     ]
    }
   ],
   "source": [
    "import os\n",
    "import toml\n",
    "from dotenv import load_dotenv\n",
    "from src.document_loader import DocumentLoader\n",
    "from src.embeddings import Embeddings\n",
    "from src.vector_store import VectorStore\n",
    "from src.retriever import Retriever\n",
    "from src.llm import LLM\n",
    "from src.rag_agent import RAGAgent"
   ]
  },
  {
   "cell_type": "code",
   "execution_count": 2,
   "metadata": {},
   "outputs": [],
   "source": [
    "load_dotenv()\n",
    "\n",
    "env = os.getenv('ENV', 'development')\n",
    "\n",
    "# Load configuration\n",
    "with open(f'config/config.{env}.toml', 'r') as file:\n",
    "    config = toml.load(file)\n",
    "    \n",
    "model_id = config['model']['id']\n",
    "document_directory = config['documents']['directory']\n",
    "embedding_directory = os.path.join(document_directory, \"embeddings\")\n",
    "    \n",
    "loader = DocumentLoader(document_directory)\n",
    "titles, documents = loader.load_documents()\n",
    "    \n",
    "huggingface_api_key = os.getenv(\"HUGGINGFACE_API_KEY\")\n",
    "if not huggingface_api_key:\n",
    "    raise ValueError(\"HUGGINGFACE_API_KEY not found in environment variables\")\n",
    "\n",
    "embeddings = Embeddings(model_id=model_id, HUGGINGFACE_API_KEY=huggingface_api_key)\n",
    "document_embeddings, chunked_texts_with_titles = embeddings.get_embeddings(titles, documents, embedding_directory=embedding_directory)"
   ]
  },
  {
   "cell_type": "code",
   "execution_count": null,
   "metadata": {},
   "outputs": [],
   "source": [
    "embedding_dimension = len(document_embeddings[0])\n",
    "vector_store = VectorStore(dimension=embedding_dimension)\n",
    "vector_store.add_documents(chunked_texts_with_titles, document_embeddings)\n",
    "\n",
    "retriever = Retriever(vector_store, embeddings)\n",
    "llm = LLM(config['llm']['api_url'])\n",
    "\n",
    "rag_agent = RAGAgent(retriever=retriever, llm=llm)"
   ]
  },
  {
   "cell_type": "code",
   "execution_count": null,
   "metadata": {},
   "outputs": [],
   "source": [
    "query = \"When he felt a hand on his shoulder, who's hand was it and what did he say?\"\n",
    "prompt = rag_agent.get_prompt(query=query)\n",
    "prompt"
   ]
  },
  {
   "cell_type": "code",
   "execution_count": null,
   "metadata": {},
   "outputs": [],
   "source": [
    "answer = rag_agent.answer(\"When he felt a hand on his shoulder, who's hand was it and what did he say?\")\n",
    "answer"
   ]
  }
 ],
 "metadata": {
  "kernelspec": {
   "display_name": "testmancervenv",
   "language": "python",
   "name": "python3"
  },
  "language_info": {
   "codemirror_mode": {
    "name": "ipython",
    "version": 3
   },
   "file_extension": ".py",
   "mimetype": "text/x-python",
   "name": "python",
   "nbconvert_exporter": "python",
   "pygments_lexer": "ipython3",
   "version": "3.10.12"
  }
 },
 "nbformat": 4,
 "nbformat_minor": 2
}
