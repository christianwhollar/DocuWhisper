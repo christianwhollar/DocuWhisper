{
 "cells": [
  {
   "cell_type": "code",
   "execution_count": 1,
   "metadata": {},
   "outputs": [
    {
     "name": "stderr",
     "output_type": "stream",
     "text": [
      "[nltk_data] Downloading package punkt to /home/chollar/nltk_data...\n",
      "[nltk_data]   Package punkt is already up-to-date!\n"
     ]
    }
   ],
   "source": [
    "import os\n",
    "import toml\n",
    "from dotenv import load_dotenv\n",
    "from src.document_loader import DocumentLoader\n",
    "from src.embeddings import Embeddings\n",
    "from src.vector_store import VectorStore\n",
    "from src.retriever import Retriever\n",
    "from src.llm import LLM\n",
    "from src.rag_agent import RAGAgent"
   ]
  },
  {
   "cell_type": "code",
   "execution_count": 2,
   "metadata": {},
   "outputs": [],
   "source": [
    "load_dotenv()\n",
    "\n",
    "env = os.getenv('ENV', 'development')\n",
    "\n",
    "# Load configuration\n",
    "with open(f'config/config.{env}.toml', 'r') as file:\n",
    "    config = toml.load(file)\n",
    "    \n",
    "model_id = config['model']['id']\n",
    "document_directory = config['documents']['directory']\n",
    "embedding_directory = os.path.join(document_directory, \"embeddings\")\n",
    "    \n",
    "loader = DocumentLoader(document_directory)\n",
    "titles, documents = loader.load_documents()\n",
    "    \n",
    "huggingface_api_key = os.getenv(\"HUGGINGFACE_API_KEY\")\n",
    "if not huggingface_api_key:\n",
    "    raise ValueError(\"HUGGINGFACE_API_KEY not found in environment variables\")\n",
    "\n",
    "embeddings = Embeddings(model_id=model_id, HUGGINGFACE_API_KEY=huggingface_api_key)\n",
    "document_embeddings, chunked_texts_with_titles = embeddings.get_embeddings(titles, documents, embedding_directory=embedding_directory)"
   ]
  },
  {
   "cell_type": "code",
   "execution_count": 3,
   "metadata": {},
   "outputs": [],
   "source": [
    "embedding_dimension = len(document_embeddings[0])\n",
    "vector_store = VectorStore(dimension=embedding_dimension)\n",
    "vector_store.add_documents(chunked_texts_with_titles, document_embeddings)\n",
    "\n",
    "retriever = Retriever(vector_store, embeddings)\n",
    "llm = LLM(config['llm']['api_url'])\n",
    "\n",
    "rag_agent = RAGAgent(retriever=retriever, llm=llm)"
   ]
  },
  {
   "cell_type": "code",
   "execution_count": 4,
   "metadata": {},
   "outputs": [
    {
     "name": "stderr",
     "output_type": "stream",
     "text": [
      "We detected that you are passing `past_key_values` as a tuple and this is deprecated and will be removed in v4.43. Please use an appropriate `Cache` class (https://huggingface.co/docs/transformers/v4.41.3/en/internal/generation_utils#transformers.Cache)\n"
     ]
    },
    {
     "data": {
      "text/plain": [
       "'Context: Dracula_Chunk_1862: To work! To work! When Dr. Van Helsing and Dr. Seward had come back from seeing poor\\nRenfield, we went gravely into what was to be done. Dracula_Chunk_2188: Something is shifting\\nfrom me in some strange way, and I feel freer than I have been of late!”\\nThe three younger men looked happier at the moment as they seemed to\\nrealise the significance of her words; but Van Helsing and I, turning to\\neach other, met each a grave and troubled glance. We said nothing at the\\ntime, however. When the three men had gone out to their tasks Van Helsing asked Mrs.\\nHarker to look up the copy of the diaries and find him the part of\\nHarker’s journal at the Castle. Dracula_Chunk_2290: Of course he wanted to be with me; but then the\\nboat service would, most likely, be the one which would destroy the ...\\nthe ... the ... Vampire. (Why did I hesitate to write the word?) He was\\nsilent awhile, and during his silence Dr. Van Helsing spoke:--\\n\\n“Friend Jonathan, this is to you for twice reasons.\\n\\nQuestion: I have a question from Dracula. After Mrs. Harker came into the room, why did the two men sitting on the bed move?\\n\\nAnswer:'"
      ]
     },
     "execution_count": 4,
     "metadata": {},
     "output_type": "execute_result"
    }
   ],
   "source": [
    "query = \"When he felt a hand on his shoulder, who's hand was it and what did he say?\"\n",
    "query = \"I have a question from Dracula. After Mrs. Harker came into the room, why did the two men sitting on the bed move?\"\n",
    "prompt = rag_agent.get_prompt(query=query)\n",
    "prompt"
   ]
  },
  {
   "cell_type": "code",
   "execution_count": 5,
   "metadata": {},
   "outputs": [
    {
     "data": {
      "text/plain": [
       "'The two men sitting on the bed moved after Mrs. Harker entered the room because they were looking at her and were concerned about her well-being.</s>'"
      ]
     },
     "execution_count": 5,
     "metadata": {},
     "output_type": "execute_result"
    }
   ],
   "source": [
    "answer = rag_agent.answer(query=query)\n",
    "answer"
   ]
  }
 ],
 "metadata": {
  "kernelspec": {
   "display_name": "testmancervenv",
   "language": "python",
   "name": "python3"
  },
  "language_info": {
   "codemirror_mode": {
    "name": "ipython",
    "version": 3
   },
   "file_extension": ".py",
   "mimetype": "text/x-python",
   "name": "python",
   "nbconvert_exporter": "python",
   "pygments_lexer": "ipython3",
   "version": "3.10.12"
  }
 },
 "nbformat": 4,
 "nbformat_minor": 2
}
